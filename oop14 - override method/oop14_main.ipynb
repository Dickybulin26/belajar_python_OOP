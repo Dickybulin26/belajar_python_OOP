{
 "cells": [
  {
   "attachments": {},
   "cell_type": "markdown",
   "metadata": {},
   "source": [
    "### **OOP Kelas Terbuka #14 - Override Method**"
   ]
  },
  {
   "cell_type": "code",
   "execution_count": 24,
   "metadata": {},
   "outputs": [],
   "source": [
    "class Hero:\n",
    "\n",
    "    def __init__(self,name,health):\n",
    "        self.name = name\n",
    "        self.health = health\n",
    "\n",
    "    def ShowInfo(self):\n",
    "        print('showinfo di kelas Hero')\n",
    "        print(f\"{self.name} health: {self.health}\")\n",
    "        \n",
    "\n",
    "class Hero_intelligence(Hero):\n",
    "    def __init__(self, name):\n",
    "        super().__init__(name, 100)\n",
    "\n",
    "    #  override\n",
    "    def ShowInfo(self):\n",
    "        print('showinfo di class Hero_intelligence')\n",
    "        print(f'\\n{self.name} \\nTipe: Inttelligence, \\nhealth: {self.health}')\n",
    "\n",
    "class Hero_strength(Hero):\n",
    "    def __init__(self, name):\n",
    "        super().__init__(name, 200)\n",
    "\n",
    "    #  override\n",
    "    def ShowInfo(self):\n",
    "        print('showinfo di class Hero_strength')\n",
    "        print(f'\\n{self.name} \\nTipe: Strength, \\nhealth: {self.health}')\n",
    "\n",
    "lina = Hero_intelligence('Lina')\n",
    "axe = Hero_strength('Axe')"
   ]
  },
  {
   "cell_type": "code",
   "execution_count": 25,
   "metadata": {},
   "outputs": [
    {
     "name": "stdout",
     "output_type": "stream",
     "text": [
      "showinfo di class Hero_intelligence\n",
      "\n",
      "Lina \n",
      "Tipe: Inttelligence, \n",
      "health: 100\n",
      "showinfo di class Hero_strength\n",
      "\n",
      "Axe \n",
      "Tipe: Strength, \n",
      "health: 200\n"
     ]
    }
   ],
   "source": [
    "lina.ShowInfo()\n",
    "axe.ShowInfo()"
   ]
  },
  {
   "cell_type": "code",
   "execution_count": null,
   "metadata": {},
   "outputs": [],
   "source": []
  }
 ],
 "metadata": {
  "kernelspec": {
   "display_name": "Python 3",
   "language": "python",
   "name": "python3"
  },
  "language_info": {
   "codemirror_mode": {
    "name": "ipython",
    "version": 3
   },
   "file_extension": ".py",
   "mimetype": "text/x-python",
   "name": "python",
   "nbconvert_exporter": "python",
   "pygments_lexer": "ipython3",
   "version": "3.10.9"
  },
  "orig_nbformat": 4
 },
 "nbformat": 4,
 "nbformat_minor": 2
}
