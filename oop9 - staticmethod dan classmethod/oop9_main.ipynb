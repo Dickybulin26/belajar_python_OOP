{
 "cells": [
  {
   "attachments": {},
   "cell_type": "markdown",
   "metadata": {},
   "source": [
    "### **OOP Kelas Terbuka #8 - Staticmethod & Classmethod**"
   ]
  },
  {
   "cell_type": "code",
   "execution_count": 30,
   "metadata": {},
   "outputs": [],
   "source": [
    "class Hero:\n",
    "\n",
    "    #* private class variabel\n",
    "    __jumlah = 0\n",
    "\n",
    "    def __init__(self,name):\n",
    "        self.name = name\n",
    "        Hero.__jumlah += 1\n",
    "\n",
    "    #* method ini hanya berlaku untuk objek\n",
    "    def getJumlah(self):\n",
    "        return Hero.__jumlah\n",
    "    \n",
    "    #* method ini tidak berlaku untuk objek tapi berlaku untuk class\n",
    "    def getJumlah1():\n",
    "        return Hero.__jumlah\n",
    "    \n",
    "    #* staticmethod (decorator) nempel ke objek dan class\n",
    "    @staticmethod\n",
    "    def getJumlah2():\n",
    "        return Hero.__jumlah\n",
    "\n",
    "    @classmethod\n",
    "    def getJumlah3(cls):\n",
    "        return cls.__jumlah"
   ]
  },
  {
   "cell_type": "code",
   "execution_count": 31,
   "metadata": {},
   "outputs": [
    {
     "name": "stdout",
     "output_type": "stream",
     "text": [
      "1\n",
      "2\n",
      "3\n"
     ]
    }
   ],
   "source": [
    "sniper = Hero('sniper')\n",
    "print(Hero.getJumlah2())\n",
    "rikimaru = Hero('rikimaru')\n",
    "print(sniper.getJumlah2())\n",
    "drowranger = Hero('drowranger')\n",
    "print(Hero.getJumlah3())"
   ]
  }
 ],
 "metadata": {
  "kernelspec": {
   "display_name": "Python 3",
   "language": "python",
   "name": "python3"
  },
  "language_info": {
   "codemirror_mode": {
    "name": "ipython",
    "version": 3
   },
   "file_extension": ".py",
   "mimetype": "text/x-python",
   "name": "python",
   "nbconvert_exporter": "python",
   "pygments_lexer": "ipython3",
   "version": "3.10.9"
  },
  "orig_nbformat": 4
 },
 "nbformat": 4,
 "nbformat_minor": 2
}
