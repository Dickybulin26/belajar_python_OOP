{
 "cells": [
  {
   "attachments": {},
   "cell_type": "markdown",
   "metadata": {},
   "source": [
    "### **OOP Kelas Terbuka #8 - Encapsulation**"
   ]
  },
  {
   "cell_type": "code",
   "execution_count": 20,
   "metadata": {},
   "outputs": [],
   "source": [
    "class Hero:\n",
    "\n",
    "    def __init__(self, name, health, attackPower):\n",
    "        self.__name = name\n",
    "        self.__health = health\n",
    "        self.__attPower = attackPower\n",
    "\n",
    "    #* getter\n",
    "    def getName(self):\n",
    "        return self.__name\n",
    "    \n",
    "    def getHealth(self):\n",
    "        return self.__health\n",
    "\n",
    "\n",
    "    #* setter \n",
    "    def diserang(self, serangPower):\n",
    "        self.__health -= serangPower\n",
    "        \n",
    "    def setAttPower(self, nilaibaru):\n",
    "        self.__attPower = nilaibaru"
   ]
  },
  {
   "cell_type": "code",
   "execution_count": 17,
   "metadata": {},
   "outputs": [],
   "source": [
    "\n",
    "#* awal dari game\n",
    "earthShaker = Hero('earthshaker', 50, 5)"
   ]
  },
  {
   "cell_type": "code",
   "execution_count": 18,
   "metadata": {},
   "outputs": [
    {
     "name": "stdout",
     "output_type": "stream",
     "text": [
      "earthshaker\n",
      "50\n",
      "45\n"
     ]
    }
   ],
   "source": [
    "\n",
    "#* game berjalan\n",
    "print(earthShaker.getName())\n",
    "print(earthShaker.getHealth())\n",
    "earthShaker.diserang(5)\n",
    "print(earthShaker.getHealth())"
   ]
  },
  {
   "cell_type": "code",
   "execution_count": null,
   "metadata": {},
   "outputs": [],
   "source": []
  }
 ],
 "metadata": {
  "kernelspec": {
   "display_name": "Python 3",
   "language": "python",
   "name": "python3"
  },
  "language_info": {
   "codemirror_mode": {
    "name": "ipython",
    "version": 3
   },
   "file_extension": ".py",
   "mimetype": "text/x-python",
   "name": "python",
   "nbconvert_exporter": "python",
   "pygments_lexer": "ipython3",
   "version": "3.10.9"
  },
  "orig_nbformat": 4
 },
 "nbformat": 4,
 "nbformat_minor": 2
}
