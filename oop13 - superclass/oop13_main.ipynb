{
 "cells": [
  {
   "attachments": {},
   "cell_type": "markdown",
   "metadata": {},
   "source": [
    "### **OOP Kelas Terbuka #13 - Super()**\n"
   ]
  },
  {
   "cell_type": "code",
   "execution_count": 22,
   "metadata": {},
   "outputs": [
    {
     "name": "stdout",
     "output_type": "stream",
     "text": [
      "lina dengan health 100\n",
      "axe dengan health 200\n"
     ]
    }
   ],
   "source": [
    "class Hero:\n",
    "\n",
    "    def __init__(self,name,health):\n",
    "        self.name = name\n",
    "        self.health = health\n",
    "\n",
    "    def ShowInfo(self):\n",
    "        print(f\"{self.name} dengan health {self.health}\")\n",
    "\n",
    "class Hero_intelligence(Hero):\n",
    "    def __init__(self, name): \n",
    "        # Hero.__init__(self,name,100)\n",
    "        super().__init__(name,100)\n",
    "        super().ShowInfo()\n",
    "\n",
    "class Hero_strength(Hero):\n",
    "    def __init__(self, name):\n",
    "        # Hero.__init__(self,name,200)\n",
    "        super().__init__(name,200)\n",
    "        super().ShowInfo()\n",
    "\n",
    "lina = Hero_intelligence('lina')\n",
    "axe = Hero_strength('axe')"
   ]
  },
  {
   "cell_type": "code",
   "execution_count": null,
   "metadata": {},
   "outputs": [],
   "source": []
  }
 ],
 "metadata": {
  "kernelspec": {
   "display_name": "Python 3",
   "language": "python",
   "name": "python3"
  },
  "language_info": {
   "codemirror_mode": {
    "name": "ipython",
    "version": 3
   },
   "file_extension": ".py",
   "mimetype": "text/x-python",
   "name": "python",
   "nbconvert_exporter": "python",
   "pygments_lexer": "ipython3",
   "version": "3.10.9"
  },
  "orig_nbformat": 4
 },
 "nbformat": 4,
 "nbformat_minor": 2
}
