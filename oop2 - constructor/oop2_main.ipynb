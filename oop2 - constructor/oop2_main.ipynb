{
 "cells": [
  {
   "attachments": {},
   "cell_type": "markdown",
   "metadata": {},
   "source": [
    "### **OOP Kelas Terbuka #2 - Constuctor __init__()**"
   ]
  },
  {
   "cell_type": "code",
   "execution_count": 11,
   "metadata": {},
   "outputs": [],
   "source": [
    "class Hero: #* template\n",
    "    \n",
    "    def __init__(self, inputName, inputHealth, inputPower, inputArmor):\n",
    "        self.name = inputName\n",
    "        self.health = inputHealth\n",
    "        self.power = inputPower\n",
    "        self.armor = inputArmor\n",
    "    \n"
   ]
  },
  {
   "cell_type": "code",
   "execution_count": 13,
   "metadata": {},
   "outputs": [],
   "source": [
    "hero1 = Hero('sniper',100,10,4) #* instansiasi objek\n",
    "hero2 = Hero(\"mirana\",100,15,1)\n",
    "hero3 = Hero(\"ucup\",1000,100, 0)"
   ]
  },
  {
   "cell_type": "code",
   "execution_count": 15,
   "metadata": {},
   "outputs": [
    {
     "name": "stdout",
     "output_type": "stream",
     "text": [
      "{'name': 'sniper', 'health': 100, 'power': 10, 'armor': 4}\n",
      "{'name': 'mirana', 'health': 100, 'power': 15, 'armor': 1}\n",
      "{'name': 'ucup', 'health': 1000, 'power': 100, 'armor': 0}\n"
     ]
    }
   ],
   "source": [
    "print(hero1.__dict__)\n",
    "print(hero2.__dict__)\n",
    "print(hero3.__dict__)"
   ]
  },
  {
   "cell_type": "code",
   "execution_count": null,
   "metadata": {},
   "outputs": [],
   "source": []
  }
 ],
 "metadata": {
  "kernelspec": {
   "display_name": "Python 3",
   "language": "python",
   "name": "python3"
  },
  "language_info": {
   "codemirror_mode": {
    "name": "ipython",
    "version": 3
   },
   "file_extension": ".py",
   "mimetype": "text/x-python",
   "name": "python",
   "nbconvert_exporter": "python",
   "pygments_lexer": "ipython3",
   "version": "3.10.9"
  },
  "orig_nbformat": 4
 },
 "nbformat": 4,
 "nbformat_minor": 2
}
